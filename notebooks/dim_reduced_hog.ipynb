{
 "cells": [
  {
   "cell_type": "code",
   "execution_count": null,
   "id": "c81a2635",
   "metadata": {},
   "outputs": [],
   "source": [
    "# imports\n",
    "import time\n",
    "import sklearn\n",
    "import pandas as pd\n",
    "\n",
    "\n",
    "from PIL import Image, ImageOps, ImageEnhance\n",
    "from sklearn.metrics import classification_report, accuracy_score\n",
    "from skimage.feature import hog\n",
    "from sklearn import svm\n",
    "from sklearn import decomposition    \n",
    "\n",
    "\n",
    "# directorios\n",
    "train_dir = '../data/processed/train'\n",
    "test_dir = '../data/processed/test'\n",
    "\n",
    "train_csv_path = '../data/processed/train_split.txt'\n",
    "test_csv_path = '../data/processed/test_split.txt'"
   ]
  },
  {
   "cell_type": "code",
   "execution_count": null,
   "id": "d4d4a7d2",
   "metadata": {},
   "outputs": [],
   "source": [
    "names = ['patient_id', 'image_id', 'disease', 'method']\n",
    "train_df = pd.read_csv(train_csv_path, delimiter = ' ', names = names)\n",
    "test_df = pd.read_csv(test_split_raw_csv_path, delimiter = ' ', names = names)"
   ]
  },
  {
   "cell_type": "code",
   "execution_count": null,
   "id": "7785a1ca",
   "metadata": {},
   "outputs": [],
   "source": [
    "# obtain images from files and into array\n",
    "train_imgs = []\n",
    "test_imgs = []\n",
    "\n",
    "for index, name in enumerate(train_df['image_id']):\n",
    "    train_imgs.append(Image.open(f'{train_dir}/{name}'))\n",
    "\n",
    "for index, name in enumerate(test_df['image_id']):\n",
    "    test_imgs.append(Image.open(f'{test_dir}/{name}'))"
   ]
  },
  {
   "cell_type": "code",
   "execution_count": 1,
   "id": "33c13481",
   "metadata": {},
   "outputs": [
    {
     "ename": "NameError",
     "evalue": "name 'time' is not defined",
     "output_type": "error",
     "traceback": [
      "\u001b[0;31m---------------------------------------------------------------------------\u001b[0m",
      "\u001b[0;31mNameError\u001b[0m                                 Traceback (most recent call last)",
      "\u001b[0;32m<ipython-input-1-a2ad11f6c141>\u001b[0m in \u001b[0;36m<module>\u001b[0;34m\u001b[0m\n\u001b[1;32m      5\u001b[0m \u001b[0mtest_nmf_imgs\u001b[0m \u001b[0;34m=\u001b[0m \u001b[0;34m[\u001b[0m\u001b[0;34m]\u001b[0m\u001b[0;34m\u001b[0m\u001b[0;34m\u001b[0m\u001b[0m\n\u001b[1;32m      6\u001b[0m \u001b[0;34m\u001b[0m\u001b[0m\n\u001b[0;32m----> 7\u001b[0;31m \u001b[0mstart_nmf\u001b[0m \u001b[0;34m=\u001b[0m \u001b[0mtime\u001b[0m\u001b[0;34m.\u001b[0m\u001b[0mtime\u001b[0m\u001b[0;34m(\u001b[0m\u001b[0;34m)\u001b[0m\u001b[0;34m\u001b[0m\u001b[0;34m\u001b[0m\u001b[0m\n\u001b[0m\u001b[1;32m      8\u001b[0m \u001b[0;32mfor\u001b[0m \u001b[0mindex\u001b[0m\u001b[0;34m,\u001b[0m \u001b[0mname\u001b[0m \u001b[0;32min\u001b[0m \u001b[0menumerate\u001b[0m\u001b[0;34m(\u001b[0m\u001b[0mtrain_df\u001b[0m\u001b[0;34m[\u001b[0m\u001b[0;34m'image_id'\u001b[0m\u001b[0;34m]\u001b[0m\u001b[0;34m)\u001b[0m\u001b[0;34m:\u001b[0m\u001b[0;34m\u001b[0m\u001b[0;34m\u001b[0m\u001b[0m\n\u001b[1;32m      9\u001b[0m     \u001b[0mimg\u001b[0m \u001b[0;34m=\u001b[0m \u001b[0mImage\u001b[0m\u001b[0;34m.\u001b[0m\u001b[0mopen\u001b[0m\u001b[0;34m(\u001b[0m\u001b[0;34mf'{train_dir}/{name}'\u001b[0m\u001b[0;34m)\u001b[0m\u001b[0;34m\u001b[0m\u001b[0;34m\u001b[0m\u001b[0m\n",
      "\u001b[0;31mNameError\u001b[0m: name 'time' is not defined"
     ]
    }
   ],
   "source": [
    "n_components = 20\n",
    "\n",
    "train_nmf_imgs = []\n",
    "\n",
    "test_nmf_imgs = []\n",
    "\n",
    "start_nmf = time.time()\n",
    "for index, name in enumerate(train_df['image_id']):\n",
    "    img = Image.open(f'{train_dir}/{name}')\n",
    "    estimator = decomposition.NMF(n_components = n_components, init = 'random', tol=5e-3)    \n",
    "    W = estimator.fit_transform(img)\n",
    "    H = estimator.components_\n",
    "    img.close()\n",
    "    train_nmf_imgs = np.dot(W,H)\n",
    "\n",
    "for index, name in enumerate(test_df['image_id']):\n",
    "    img = Image.open(f'{test_dir}/{name}')\n",
    "    estimator = decomposition.NMF(n_components = n_components, init = 'random', tol=5e-3)    \n",
    "    W = estimator.fit_transform(img)\n",
    "    H = estimator.components_\n",
    "    img.close()\n",
    "    test_nmf_imgs = np.dot(W,H)\n",
    "end_nmf = time.time()"
   ]
  },
  {
   "cell_type": "code",
   "execution_count": null,
   "id": "b544bb6c",
   "metadata": {},
   "outputs": [],
   "source": [
    "print(round(end - start, 2), \"segundos\")"
   ]
  },
  {
   "cell_type": "code",
   "execution_count": null,
   "id": "742f014d",
   "metadata": {},
   "outputs": [],
   "source": [
    "start = time.time()\n",
    "\n",
    "train_hog_imgs = []\n",
    "train_hog_features = []\n",
    "\n",
    "test_hog_imgs = []\n",
    "test_hog_features = []\n",
    "\n",
    "for index, imgName in enumerate(train_df['image_id']):\n",
    "    fd, hoggedImg = hog(Image.open(f'{train_dir}/{imgName}'), orientations=9, pixels_per_cell=(8, 8), cells_per_block=(2, 2), visualize=True)\n",
    "    train_hog_imgs.append(hoggedImg)\n",
    "    train_hog_features.append(fd)\n",
    "\n",
    "for index, img in enumerate(test_imgs):\n",
    "    fd, hoggedImg = hog(xray, orientations=9, pixels_per_cell=(8, 8), cells_per_block=(2, 2), visualize=True)\n",
    "    test_hog_images.append(hoggedImg)\n",
    "    test_hog_features.append(fd)\n",
    "\n",
    "end = time.time()"
   ]
  },
  {
   "cell_type": "code",
   "execution_count": null,
   "id": "f23133e2",
   "metadata": {},
   "outputs": [],
   "source": [
    "print(end - start, \"segundos\")"
   ]
  },
  {
   "cell_type": "code",
   "execution_count": null,
   "id": "250efc84",
   "metadata": {},
   "outputs": [],
   "source": [
    "start = time.time()\n",
    "\n",
    "clf = svm.SVC()\n",
    "\n",
    "x_train, x_test, y_train, y_test = train_test_split(hogFeatures, filteredLabels, test_size=0.2, random_state=random_seed, shuffle=True)\n",
    "\n",
    "clf.fit(x_train, y_train)\n",
    "\n",
    "y_pred = clf.predict(x_test)\n",
    "\n",
    "end = time.time()\n",
    "print(end - start, \"segundos\")\n",
    "print(\"Accuracy: \"+str(accuracy_score(y_test, y_pred)))\n",
    "print('\\n')\n",
    "print(classification_report(y_test, y_pred))"
   ]
  },
  {
   "cell_type": "code",
   "execution_count": null,
   "id": "0f2b97ff",
   "metadata": {},
   "outputs": [],
   "source": []
  },
  {
   "cell_type": "code",
   "execution_count": null,
   "id": "5f27118e",
   "metadata": {},
   "outputs": [],
   "source": []
  }
 ],
 "metadata": {
  "kernelspec": {
   "display_name": "Python 3",
   "language": "python",
   "name": "python3"
  },
  "language_info": {
   "codemirror_mode": {
    "name": "ipython",
    "version": 3
   },
   "file_extension": ".py",
   "mimetype": "text/x-python",
   "name": "python",
   "nbconvert_exporter": "python",
   "pygments_lexer": "ipython3",
   "version": "3.7.3"
  }
 },
 "nbformat": 4,
 "nbformat_minor": 5
}
