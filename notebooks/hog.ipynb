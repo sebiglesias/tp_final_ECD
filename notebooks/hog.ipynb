{
 "cells": [
  {
   "cell_type": "code",
   "execution_count": 25,
   "id": "69c9805b",
   "metadata": {},
   "outputs": [],
   "source": [
    "# imports\n",
    "import time\n",
    "import sklearn\n",
    "import pandas as pd\n",
    "import numpy\n",
    "import multiprocess as mp\n",
    "import swifter\n",
    "\n",
    "from PIL import Image, ImageOps, ImageEnhance\n",
    "from skimage.feature import hog\n",
    "from matplotlib import cm\n",
    "from sklearn.ensemble import BaggingClassifier, RandomForestClassifier\n",
    "from sklearn.model_selection import cross_val_score, StratifiedKFold, cross_validate, GridSearchCV\n",
    "from sklearn.metrics import recall_score, precision_score, make_scorer, roc_curve, roc_auc_score\n",
    "\n",
    "\n",
    "# directorios\n",
    "raw_dir = '../data/raw/raw_xrays'\n",
    "\n",
    "filtered_raw_dir = '../data/raw/filtered_xrays'\n",
    "\n",
    "raw_128_dir = '../data/raw/128'\n",
    "\n",
    "processed_csv_path = '../data/processed/filtered.txt'\n",
    "\n",
    "def features_csv_path(orient, pixels, cells):\n",
    "    return f'../data/processed/or{orient}pix{pixels}cell{cells}'\n",
    "\n",
    "hogged_imgs_dir = '../data/processed/hogged'\n",
    "\n",
    "train_fd_csv_path = '../data/processed/train_fd.txt'\n",
    "test_fd_csv_path = '../data/processed/test_fd.txt'\n",
    "\n",
    "train_hoged_imgs_csv_path = '../data/processed/train_hogged.txt'\n",
    "test_hoged_imgs_csv_path = '../data/processed/test_hogged.txt'\n",
    "\n",
    "seed = 14061996\n",
    "numpy.random.seed(seed)"
   ]
  },
  {
   "cell_type": "code",
   "execution_count": 2,
   "id": "7fe74ec6",
   "metadata": {},
   "outputs": [],
   "source": [
    "df = pd.read_csv(processed_csv_path, delimiter = ',', header='infer')"
   ]
  },
  {
   "cell_type": "code",
   "execution_count": 3,
   "id": "46828b41",
   "metadata": {},
   "outputs": [
    {
     "data": {
      "text/html": [
       "<div>\n",
       "<style scoped>\n",
       "    .dataframe tbody tr th:only-of-type {\n",
       "        vertical-align: middle;\n",
       "    }\n",
       "\n",
       "    .dataframe tbody tr th {\n",
       "        vertical-align: top;\n",
       "    }\n",
       "\n",
       "    .dataframe thead th {\n",
       "        text-align: right;\n",
       "    }\n",
       "</style>\n",
       "<table border=\"1\" class=\"dataframe\">\n",
       "  <thead>\n",
       "    <tr style=\"text-align: right;\">\n",
       "      <th></th>\n",
       "      <th>Unnamed: 0</th>\n",
       "      <th>patient_id</th>\n",
       "      <th>image_id</th>\n",
       "      <th>disease</th>\n",
       "      <th>method</th>\n",
       "    </tr>\n",
       "  </thead>\n",
       "  <tbody>\n",
       "    <tr>\n",
       "      <th>0</th>\n",
       "      <td>540</td>\n",
       "      <td>003d8fa0-6bf1-40ed-b54c-ac657f8495c5</td>\n",
       "      <td>003d8fa0-6bf1-40ed-b54c-ac657f8495c5.png</td>\n",
       "      <td>normal</td>\n",
       "      <td>rsna</td>\n",
       "    </tr>\n",
       "    <tr>\n",
       "      <th>1</th>\n",
       "      <td>541</td>\n",
       "      <td>009eb222-eabc-4150-8121-d5a6d06b8ebf</td>\n",
       "      <td>009eb222-eabc-4150-8121-d5a6d06b8ebf.png</td>\n",
       "      <td>normal</td>\n",
       "      <td>rsna</td>\n",
       "    </tr>\n",
       "    <tr>\n",
       "      <th>2</th>\n",
       "      <td>542</td>\n",
       "      <td>01027bc3-dc40-4165-a6c3-d6be2cb7ca34</td>\n",
       "      <td>01027bc3-dc40-4165-a6c3-d6be2cb7ca34.png</td>\n",
       "      <td>normal</td>\n",
       "      <td>rsna</td>\n",
       "    </tr>\n",
       "    <tr>\n",
       "      <th>3</th>\n",
       "      <td>543</td>\n",
       "      <td>017c7b5b-618e-4bc9-943c-04c6a988d992</td>\n",
       "      <td>017c7b5b-618e-4bc9-943c-04c6a988d992.png</td>\n",
       "      <td>normal</td>\n",
       "      <td>rsna</td>\n",
       "    </tr>\n",
       "    <tr>\n",
       "      <th>4</th>\n",
       "      <td>544</td>\n",
       "      <td>019ca122-9cdf-4704-b7a9-449c8a1c263e</td>\n",
       "      <td>019ca122-9cdf-4704-b7a9-449c8a1c263e.png</td>\n",
       "      <td>normal</td>\n",
       "      <td>rsna</td>\n",
       "    </tr>\n",
       "    <tr>\n",
       "      <th>5</th>\n",
       "      <td>545</td>\n",
       "      <td>01a4059c-22f7-4f51-8a27-50aff0b3aeb3</td>\n",
       "      <td>01a4059c-22f7-4f51-8a27-50aff0b3aeb3.png</td>\n",
       "      <td>normal</td>\n",
       "      <td>rsna</td>\n",
       "    </tr>\n",
       "    <tr>\n",
       "      <th>6</th>\n",
       "      <td>546</td>\n",
       "      <td>01aad2a6-3b93-45e3-bf37-2d73348cb6fc</td>\n",
       "      <td>01aad2a6-3b93-45e3-bf37-2d73348cb6fc.png</td>\n",
       "      <td>normal</td>\n",
       "      <td>rsna</td>\n",
       "    </tr>\n",
       "    <tr>\n",
       "      <th>7</th>\n",
       "      <td>547</td>\n",
       "      <td>01b15f07-1149-4ff8-9756-bc821e41b97c</td>\n",
       "      <td>01b15f07-1149-4ff8-9756-bc821e41b97c.png</td>\n",
       "      <td>normal</td>\n",
       "      <td>rsna</td>\n",
       "    </tr>\n",
       "    <tr>\n",
       "      <th>8</th>\n",
       "      <td>548</td>\n",
       "      <td>01be3fe5-4a91-4c57-9af6-305966a7d0aa</td>\n",
       "      <td>01be3fe5-4a91-4c57-9af6-305966a7d0aa.png</td>\n",
       "      <td>normal</td>\n",
       "      <td>rsna</td>\n",
       "    </tr>\n",
       "    <tr>\n",
       "      <th>9</th>\n",
       "      <td>549</td>\n",
       "      <td>01c0b605-0a82-401b-9649-81252304ac45</td>\n",
       "      <td>01c0b605-0a82-401b-9649-81252304ac45.png</td>\n",
       "      <td>normal</td>\n",
       "      <td>rsna</td>\n",
       "    </tr>\n",
       "  </tbody>\n",
       "</table>\n",
       "</div>"
      ],
      "text/plain": [
       "   Unnamed: 0                            patient_id  \\\n",
       "0         540  003d8fa0-6bf1-40ed-b54c-ac657f8495c5   \n",
       "1         541  009eb222-eabc-4150-8121-d5a6d06b8ebf   \n",
       "2         542  01027bc3-dc40-4165-a6c3-d6be2cb7ca34   \n",
       "3         543  017c7b5b-618e-4bc9-943c-04c6a988d992   \n",
       "4         544  019ca122-9cdf-4704-b7a9-449c8a1c263e   \n",
       "5         545  01a4059c-22f7-4f51-8a27-50aff0b3aeb3   \n",
       "6         546  01aad2a6-3b93-45e3-bf37-2d73348cb6fc   \n",
       "7         547  01b15f07-1149-4ff8-9756-bc821e41b97c   \n",
       "8         548  01be3fe5-4a91-4c57-9af6-305966a7d0aa   \n",
       "9         549  01c0b605-0a82-401b-9649-81252304ac45   \n",
       "\n",
       "                                   image_id disease method  \n",
       "0  003d8fa0-6bf1-40ed-b54c-ac657f8495c5.png  normal   rsna  \n",
       "1  009eb222-eabc-4150-8121-d5a6d06b8ebf.png  normal   rsna  \n",
       "2  01027bc3-dc40-4165-a6c3-d6be2cb7ca34.png  normal   rsna  \n",
       "3  017c7b5b-618e-4bc9-943c-04c6a988d992.png  normal   rsna  \n",
       "4  019ca122-9cdf-4704-b7a9-449c8a1c263e.png  normal   rsna  \n",
       "5  01a4059c-22f7-4f51-8a27-50aff0b3aeb3.png  normal   rsna  \n",
       "6  01aad2a6-3b93-45e3-bf37-2d73348cb6fc.png  normal   rsna  \n",
       "7  01b15f07-1149-4ff8-9756-bc821e41b97c.png  normal   rsna  \n",
       "8  01be3fe5-4a91-4c57-9af6-305966a7d0aa.png  normal   rsna  \n",
       "9  01c0b605-0a82-401b-9649-81252304ac45.png  normal   rsna  "
      ]
     },
     "execution_count": 3,
     "metadata": {},
     "output_type": "execute_result"
    }
   ],
   "source": [
    "df.head(10)"
   ]
  },
  {
   "cell_type": "code",
   "execution_count": 4,
   "id": "44e77a74",
   "metadata": {},
   "outputs": [],
   "source": [
    "# test una imagen\n",
    "def hog_img(img_id, orientation, pixels_per_cell, cells_per_block):\n",
    "    img = Image.open(f'{raw_128_dir}/{img_id}')\n",
    "    start = time.time()\n",
    "    fd, hoggedImg = hog(img, orientations=orientation, pixels_per_cell=(pixels_per_cell, pixels_per_cell), cells_per_block=(cells_per_block, cells_per_block), visualize=True)\n",
    "    end = time.time()\n",
    "    img.close()\n",
    "    print(f'Orientation {orientation}')\n",
    "    print(f'pixels_per_cell {pixels_per_cell}x{pixels_per_cell}')\n",
    "    print(f'cells_per_block {cells_per_block}')\n",
    "    print(round(end-start, 2), \"segundos\")\n",
    "    return Image.fromarray(numpy.uint8(cm.gist_earth(hoggedImg)*255))"
   ]
  },
  {
   "cell_type": "code",
   "execution_count": 5,
   "id": "067a50a8",
   "metadata": {},
   "outputs": [],
   "source": [
    "img1 = df['image_id'][0]"
   ]
  },
  {
   "cell_type": "markdown",
   "id": "ee596512",
   "metadata": {},
   "source": [
    "Pruebo diferentes valores de orientation y su efecto en la imagen"
   ]
  },
  {
   "cell_type": "code",
   "execution_count": 6,
   "id": "1204d845",
   "metadata": {},
   "outputs": [
    {
     "name": "stdout",
     "output_type": "stream",
     "text": [
      "Orientation 9\n",
      "pixels_per_cell 8x8\n",
      "cells_per_block 2\n",
      "0.05 segundos\n"
     ]
    },
    {
     "data": {
      "image/png": "[encoded data removed]",
      "text/plain": [
       "<PIL.Image.Image image mode=RGBA size=128x128 at 0x13F40EA60>"
      ]
     },
     "execution_count": 6,
     "metadata": {},
     "output_type": "execute_result"
    }
   ],
   "source": [
    "orientation = 9\n",
    "pixels_per_cell = 8\n",
    "cells_per_block = 2\n",
    "hog_img(img1, orientation, pixels_per_cell, cells_per_block)"
   ]
  },
  {
   "cell_type": "code",
   "execution_count": 7,
   "id": "eb7797be",
   "metadata": {},
   "outputs": [
    {
     "name": "stdout",
     "output_type": "stream",
     "text": [
      "Orientation 8\n",
      "pixels_per_cell 8x8\n",
      "cells_per_block 2\n",
      "0.05 segundos\n"
     ]
    },
    {
     "data": {
      "image/png": "[encoded data removed]",
      "text/plain": [
       "<PIL.Image.Image image mode=RGBA size=128x128 at 0x10782A190>"
      ]
     },
     "execution_count": 7,
     "metadata": {},
     "output_type": "execute_result"
    }
   ],
   "source": [
    "orientation = 8\n",
    "pixels_per_cell = 8\n",
    "cells_per_block = 2\n",
    "hog_img(img1, orientation, pixels_per_cell, cells_per_block)"
   ]
  },
  {
   "cell_type": "code",
   "execution_count": 8,
   "id": "22a0655f",
   "metadata": {},
   "outputs": [
    {
     "name": "stdout",
     "output_type": "stream",
     "text": [
      "Orientation 7\n",
      "pixels_per_cell 8x8\n",
      "cells_per_block 2\n",
      "0.04 segundos\n"
     ]
    },
    {
     "data": {
      "image/png": "[encoded data removed]",
      "text/plain": [
       "<PIL.Image.Image image mode=RGBA size=128x128 at 0x13FFBDA90>"
      ]
     },
     "execution_count": 8,
     "metadata": {},
     "output_type": "execute_result"
    }
   ],
   "source": [
    "orientation = 7\n",
    "pixels_per_cell = 8\n",
    "cells_per_block = 2\n",
    "hog_img(img1, orientation, pixels_per_cell, cells_per_block)"
   ]
  },
  {
   "cell_type": "markdown",
   "id": "ab63ddad",
   "metadata": {},
   "source": [
    "Pruebo diferentes valores de pixels_per_cell"
   ]
  },
  {
   "cell_type": "code",
   "execution_count": 9,
   "id": "64ca5b38",
   "metadata": {},
   "outputs": [
    {
     "name": "stdout",
     "output_type": "stream",
     "text": [
      "Orientation 9\n",
      "pixels_per_cell 8x8\n",
      "cells_per_block 2\n",
      "0.05 segundos\n"
     ]
    },
    {
     "data": {
      "image/png": "[encoded data removed]",
      "text/plain": [
       "<PIL.Image.Image image mode=RGBA size=128x128 at 0x13FFBDCD0>"
      ]
     },
     "execution_count": 9,
     "metadata": {},
     "output_type": "execute_result"
    }
   ],
   "source": [
    "orientation = 9\n",
    "pixels_per_cell = 8\n",
    "cells_per_block = 2\n",
    "hog_img(img1, orientation, pixels_per_cell, cells_per_block)"
   ]
  },
  {
   "cell_type": "code",
   "execution_count": 10,
   "id": "0ca6a2fd",
   "metadata": {},
   "outputs": [
    {
     "name": "stdout",
     "output_type": "stream",
     "text": [
      "Orientation 9\n",
      "pixels_per_cell 16x16\n",
      "cells_per_block 2\n",
      "0.02 segundos\n"
     ]
    },
    {
     "data": {
      "image/png": "[encoded data removed]",
      "text/plain": [
       "<PIL.Image.Image image mode=RGBA size=128x128 at 0x13FFBDC70>"
      ]
     },
     "execution_count": 10,
     "metadata": {},
     "output_type": "execute_result"
    }
   ],
   "source": [
    "orientation = 9\n",
    "pixels_per_cell = 16\n",
    "cells_per_block = 2\n",
    "hog_img(img1, orientation, pixels_per_cell, cells_per_block)"
   ]
  },
  {
   "cell_type": "code",
   "execution_count": 11,
   "id": "ef177d50",
   "metadata": {},
   "outputs": [
    {
     "name": "stdout",
     "output_type": "stream",
     "text": [
      "Orientation 9\n",
      "pixels_per_cell 4x4\n",
      "cells_per_block 2\n",
      "0.17 segundos\n"
     ]
    },
    {
     "data": {
      "image/png": "[encoded data removed]",
      "text/plain": [
       "<PIL.Image.Image image mode=RGBA size=128x128 at 0x13FED4EE0>"
      ]
     },
     "execution_count": 11,
     "metadata": {},
     "output_type": "execute_result"
    }
   ],
   "source": [
    "orientation = 9\n",
    "pixels_per_cell = 4\n",
    "cells_per_block = 2\n",
    "hog_img(img1, orientation, pixels_per_cell, cells_per_block)"
   ]
  },
  {
   "cell_type": "markdown",
   "id": "761fee5c",
   "metadata": {},
   "source": [
    "Pruebo diferentes valores de cells_per_block"
   ]
  },
  {
   "cell_type": "code",
   "execution_count": 12,
   "id": "61ec9f7e",
   "metadata": {},
   "outputs": [
    {
     "name": "stdout",
     "output_type": "stream",
     "text": [
      "Orientation 9\n",
      "pixels_per_cell 8x8\n",
      "cells_per_block 2\n",
      "0.05 segundos\n"
     ]
    },
    {
     "data": {
      "image/png": "[encoded data removed]",
      "text/plain": [
       "<PIL.Image.Image image mode=RGBA size=128x128 at 0x13FFBDE20>"
      ]
     },
     "execution_count": 12,
     "metadata": {},
     "output_type": "execute_result"
    }
   ],
   "source": [
    "orientation = 9\n",
    "pixels_per_cell = 8\n",
    "cells_per_block = 2\n",
    "hog_img(img1, orientation, pixels_per_cell, cells_per_block)"
   ]
  },
  {
   "cell_type": "code",
   "execution_count": 13,
   "id": "fcff9e53",
   "metadata": {},
   "outputs": [
    {
     "name": "stdout",
     "output_type": "stream",
     "text": [
      "Orientation 9\n",
      "pixels_per_cell 8x8\n",
      "cells_per_block 4\n",
      "0.05 segundos\n"
     ]
    },
    {
     "data": {
      "image/png": "[encoded data removed]",
      "text/plain": [
       "<PIL.Image.Image image mode=RGBA size=128x128 at 0x13FED4A30>"
      ]
     },
     "execution_count": 13,
     "metadata": {},
     "output_type": "execute_result"
    }
   ],
   "source": [
    "orientation = 9\n",
    "pixels_per_cell = 8\n",
    "cells_per_block = 4\n",
    "hog_img(img1, orientation, pixels_per_cell, cells_per_block)"
   ]
  },
  {
   "cell_type": "code",
   "execution_count": 14,
   "id": "507f1bd9",
   "metadata": {},
   "outputs": [
    {
     "name": "stdout",
     "output_type": "stream",
     "text": [
      "Orientation 9\n",
      "pixels_per_cell 8x8\n",
      "cells_per_block 8\n",
      "0.05 segundos\n"
     ]
    },
    {
     "data": {
      "image/png": "[encoded data removed]",
      "text/plain": [
       "<PIL.Image.Image image mode=RGBA size=128x128 at 0x13FFBD910>"
      ]
     },
     "execution_count": 14,
     "metadata": {},
     "output_type": "execute_result"
    }
   ],
   "source": [
    "orientation = 9\n",
    "pixels_per_cell = 8\n",
    "cells_per_block = 8\n",
    "hog_img(img1, orientation, pixels_per_cell, cells_per_block)"
   ]
  },
  {
   "cell_type": "code",
   "execution_count": 15,
   "id": "71a42791",
   "metadata": {},
   "outputs": [
    {
     "name": "stdout",
     "output_type": "stream",
     "text": [
      "003d8fa0-6bf1-40ed-b54c-ac657f8495c5.png\n"
     ]
    },
    {
     "data": {
      "text/plain": [
       "(array([0.01217047, 0.0027214 , 0.37465014, ..., 0.34867394, 0.34867394,\n",
       "        0.34867394]),\n",
       " array([[ 0.        ,  0.        ,  0.        , ...,  0.        ,\n",
       "          0.        ,  0.        ],\n",
       "        [ 0.        ,  0.        ,  0.        , ...,  0.        ,\n",
       "          0.        ,  0.        ],\n",
       "        [ 0.        ,  0.        ,  0.        , ...,  0.        ,\n",
       "          0.17469281,  0.        ],\n",
       "        ...,\n",
       "        [ 0.        ,  8.76783097,  0.        , ...,  0.        ,\n",
       "         10.0152514 ,  0.        ],\n",
       "        [ 0.        ,  0.        , 12.42772961, ..., 12.21224213,\n",
       "          0.        ,  0.        ],\n",
       "        [ 0.        ,  0.        ,  0.        , ...,  0.        ,\n",
       "          0.        ,  0.        ]]))"
      ]
     },
     "execution_count": 15,
     "metadata": {},
     "output_type": "execute_result"
    }
   ],
   "source": [
    "# Aplica hog para una única imágen\n",
    "def get_single_hogged_img(id, orient, pixels, cells):\n",
    "    img = Image.open(f'{raw_128_dir}/{id}')\n",
    "    fd, hoggedImg = hog(img, orientations=orient, pixels_per_cell=(pixels, pixels), cells_per_block=(cells, cells), visualize=True)\n",
    "    img.close()\n",
    "    return fd, hoggedImg\n",
    "\n",
    "# prueba\n",
    "img_test = df['image_id'][0]\n",
    "print(img_test)\n",
    "get_single_hogged_img(img_test, 9, 8, 2)"
   ]
  },
  {
   "cell_type": "code",
   "execution_count": 16,
   "id": "0e054d07",
   "metadata": {},
   "outputs": [
    {
     "data": {
      "text/plain": [
       "0"
      ]
     },
     "execution_count": 16,
     "metadata": {},
     "output_type": "execute_result"
    }
   ],
   "source": [
    "normal = 'normal'\n",
    "pneumonia = 'pneumonia'\n",
    "covid = 'COVID-19'\n",
    "\n",
    "def disease_to_num(x):\n",
    "    if x == normal:\n",
    "        return 0\n",
    "    elif x == pneumonia:\n",
    "        return 1\n",
    "    elif x == covid:\n",
    "        return 2\n",
    "    else:\n",
    "        return x\n",
    "\n",
    "disease_to_num(df['disease'][0])"
   ]
  },
  {
   "cell_type": "code",
   "execution_count": 17,
   "id": "f3da128c",
   "metadata": {},
   "outputs": [
    {
     "name": "stdout",
     "output_type": "stream",
     "text": [
      "0\n"
     ]
    }
   ],
   "source": [
    "df['disease'] = df['disease'].apply(lambda x: disease_to_num(x))\n",
    "print(df['disease'][0])"
   ]
  },
  {
   "cell_type": "code",
   "execution_count": 18,
   "id": "3e99b2ca",
   "metadata": {},
   "outputs": [],
   "source": [
    "# Aplica hog a un conjunto de imágenes con unos determinados parámetros de hog, y guarda los resultados en un csv\n",
    "def get_hogged_imgs(df, orient, pixels, cells):\n",
    "    features = []\n",
    "    start = time.time()\n",
    "    for img_id in df['image_id']:\n",
    "        fd, hoggedImg = get_single_hogged_img(img_id, orient, pixels, cells)\n",
    "        features.append(fd)\n",
    "    end = time.time()\n",
    "    path = features_csv_path(orient, pixels, cells)\n",
    "    print('Orientation', orient, 'Pixels', pixels, 'Cells', cells, 'Time', round(end - start , 2), 'segundos', path)\n",
    "    np_feat = numpy.array(features)\n",
    "    numpy.save(path, np_feat)\n"
   ]
  },
  {
   "cell_type": "code",
   "execution_count": 19,
   "id": "d7e0b53b",
   "metadata": {},
   "outputs": [
    {
     "name": "stdout",
     "output_type": "stream",
     "text": [
      "Orientation 7 Pixels 8 Cells 2 Time 10.0 segundos ../data/processed/or7pix8cell2\n",
      "Orientation 7 Pixels 8 Cells 4 Time 8.91 segundos ../data/processed/or7pix8cell4\n",
      "Orientation 7 Pixels 8 Cells 8 Time 8.86 segundos ../data/processed/or7pix8cell8\n",
      "Orientation 7 Pixels 16 Cells 2 Time 2.74 segundos ../data/processed/or7pix16cell2\n",
      "Orientation 7 Pixels 16 Cells 4 Time 2.53 segundos ../data/processed/or7pix16cell4\n",
      "Orientation 7 Pixels 16 Cells 8 Time 2.33 segundos ../data/processed/or7pix16cell8\n",
      "Orientation 8 Pixels 8 Cells 2 Time 10.48 segundos ../data/processed/or8pix8cell2\n",
      "Orientation 8 Pixels 8 Cells 4 Time 10.51 segundos ../data/processed/or8pix8cell4\n",
      "Orientation 8 Pixels 8 Cells 8 Time 9.47 segundos ../data/processed/or8pix8cell8\n",
      "Orientation 8 Pixels 16 Cells 2 Time 3.01 segundos ../data/processed/or8pix16cell2\n",
      "Orientation 8 Pixels 16 Cells 4 Time 2.79 segundos ../data/processed/or8pix16cell4\n",
      "Orientation 8 Pixels 16 Cells 8 Time 2.65 segundos ../data/processed/or8pix16cell8\n",
      "Orientation 9 Pixels 8 Cells 2 Time 11.05 segundos ../data/processed/or9pix8cell2\n",
      "Orientation 9 Pixels 8 Cells 4 Time 11.26 segundos ../data/processed/or9pix8cell4\n",
      "Orientation 9 Pixels 8 Cells 8 Time 11.03 segundos ../data/processed/or9pix8cell8\n",
      "Orientation 9 Pixels 16 Cells 2 Time 3.16 segundos ../data/processed/or9pix16cell2\n",
      "Orientation 9 Pixels 16 Cells 4 Time 3.35 segundos ../data/processed/or9pix16cell4\n",
      "Orientation 9 Pixels 16 Cells 8 Time 3.06 segundos ../data/processed/or9pix16cell8\n"
     ]
    }
   ],
   "source": [
    "cells = [2, 4, 8]\n",
    "pixels = [8, 16]\n",
    "orientations = [7, 8, 9]\n",
    "\n",
    "for orien in orientations:\n",
    "    for pix in pixels:\n",
    "        for cell in cells:\n",
    "            get_hogged_imgs(df, orien, pix, cell)\n"
   ]
  },
  {
   "cell_type": "code",
   "execution_count": 20,
   "id": "9b6fab79",
   "metadata": {},
   "outputs": [
    {
     "name": "stdout",
     "output_type": "stream",
     "text": [
      "[[0.00455923 0.00115755 0.05208647 ... 0.14924997 0.08401227 0.11228966]\n",
      " [0.01324185 0.00589307 0.02125721 ... 0.05266199 0.08082429 0.06565159]\n",
      " [0.01973083 0.02336076 0.06495314 ... 0.12331961 0.11641069 0.11256974]\n",
      " ...\n",
      " [0.12882586 0.02974305 0.0416403  ... 0.04469102 0.03383542 0.01747526]\n",
      " [0.16830736 0.041195   0.02112075 ... 0.12548267 0.08435948 0.03916152]\n",
      " [0.20766722 0.03653763 0.0689219  ... 0.01227842 0.01446569 0.07879268]]\n"
     ]
    }
   ],
   "source": [
    "example_df = numpy.load(f'{features_csv_path(orien, pix, cell)}.npy')\n",
    "print(example_df)"
   ]
  },
  {
   "cell_type": "code",
   "execution_count": 21,
   "id": "c8e283cc",
   "metadata": {},
   "outputs": [],
   "source": [
    "scoring = {'recall0': make_scorer(recall_score, average = None, labels = [0]), \n",
    "       'recall1': make_scorer(recall_score, average = None, labels = [1]),\n",
    "       'recall2': make_scorer(recall_score, average = None, labels = [2]),\n",
    "       'precision0': make_scorer(precision_score, average = None, labels = [0]),\n",
    "       'precision1': make_scorer(precision_score, average = None, labels = [1]),\n",
    "       'precision2': make_scorer(precision_score, average = None, labels = [2]),\n",
    "       'roc_auc_score0': make_scorer(roc_auc_score, average = None, labels = [0],\n",
    "       'roc_auc_score1': make_scorer(roc_auc_score, average = None, labels = [1],\n",
    "       'roc_auc_score2': make_scorer(roc_auc_score, average = None, labels = [2],)\n",
    "}"
   ]
  },
  {
   "cell_type": "code",
   "execution_count": 22,
   "id": "5dc6654e",
   "metadata": {},
   "outputs": [],
   "source": [
    "kfold = StratifiedKFold(n_splits=5, shuffle=True, random_state=seed) "
   ]
  },
  {
   "cell_type": "code",
   "execution_count": 30,
   "id": "47732642",
   "metadata": {
    "scrolled": true
   },
   "outputs": [
    {
     "name": "stdout",
     "output_type": "stream",
     "text": [
      "Orientation 9 Pixels 16 Cells 8\n",
      "Recall normal: 0.79\n",
      "Recall pneumonia: 0.64\n",
      "Recall covid: 0.57\n",
      "Precision normal: 0.72\n",
      "Precision pneumonia: 0.65\n",
      "Precision covid: 0.62\n"
     ]
    }
   ],
   "source": [
    "x = numpy.load(f'{features_csv_path(orien, pix, cell)}.npy')\n",
    "\n",
    "clf = RandomForestClassifier(min_samples_leaf=20, random_state=seed)\n",
    "\n",
    "scores = cross_validate(clf, X=x, y=df['disease'], cv=kfold, scoring=scoring)\n",
    "\n",
    "\n",
    "print('Orientation', orien, 'Pixels', pix, 'Cells', cell)\n",
    "print('Recall normal:', round(scores['test_recall0'].mean(), 2))\n",
    "print('Recall pneumonia:', round(scores['test_recall1'].mean(), 2))\n",
    "print('Recall covid:', round(scores['test_recall2'].mean(), 2))\n",
    "print('Precision normal:', round(scores['test_precision0'].mean(), 2))\n",
    "print('Precision pneumonia:', round(scores['test_precision1'].mean(), 2))\n",
    "print('Precision covid:', round(scores['test_precision2'].mean(), 2))"
   ]
  },
  {
   "cell_type": "code",
   "execution_count": 31,
   "id": "0725226c",
   "metadata": {},
   "outputs": [
    {
     "name": "stdout",
     "output_type": "stream",
     "text": [
      "=========================== 0 ====================================\n",
      "Orientation 7 Pixels 8 Cells 2\n",
      "Precision normal: 0.69 (+/- 0.07)\n",
      "Recall normal: 0.81 (+/- 0.15)\n",
      "Precision pneumonia: 0.59 (+/- 0.15)\n",
      "Recall pneumonia: 0.59 (+/- 0.18)\n",
      "Precision covid: 0.64 (+/- 0.12)\n",
      "Recall covid: 0.52 (+/- 0.16) \n",
      "\n",
      "=========================== 1 ====================================\n",
      "Orientation 7 Pixels 8 Cells 4\n",
      "Precision normal: 0.72 (+/- 0.16)\n",
      "Recall normal: 0.79 (+/- 0.12)\n",
      "Precision pneumonia: 0.60 (+/- 0.28)\n",
      "Recall pneumonia: 0.60 (+/- 0.21)\n",
      "Precision covid: 0.54 (+/- 0.12)\n",
      "Recall covid: 0.47 (+/- 0.20) \n",
      "\n",
      "=========================== 2 ====================================\n",
      "Orientation 7 Pixels 8 Cells 8\n",
      "Precision normal: 0.70 (+/- 0.17)\n",
      "Recall normal: 0.83 (+/- 0.16)\n",
      "Precision pneumonia: 0.63 (+/- 0.26)\n",
      "Recall pneumonia: 0.52 (+/- 0.08)\n",
      "Precision covid: 0.56 (+/- 0.08)\n",
      "Recall covid: 0.54 (+/- 0.10) \n",
      "\n",
      "=========================== 3 ====================================\n",
      "Orientation 7 Pixels 16 Cells 2\n",
      "Precision normal: 0.68 (+/- 0.06)\n",
      "Recall normal: 0.80 (+/- 0.06)\n",
      "Precision pneumonia: 0.58 (+/- 0.14)\n",
      "Recall pneumonia: 0.57 (+/- 0.14)\n",
      "Precision covid: 0.59 (+/- 0.15)\n",
      "Recall covid: 0.50 (+/- 0.09) \n",
      "\n",
      "=========================== 4 ====================================\n",
      "Orientation 7 Pixels 16 Cells 4\n",
      "Precision normal: 0.75 (+/- 0.09)\n",
      "Recall normal: 0.82 (+/- 0.05)\n",
      "Precision pneumonia: 0.59 (+/- 0.19)\n",
      "Recall pneumonia: 0.56 (+/- 0.19)\n",
      "Precision covid: 0.55 (+/- 0.08)\n",
      "Recall covid: 0.52 (+/- 0.21) \n",
      "\n",
      "=========================== 5 ====================================\n",
      "Orientation 7 Pixels 16 Cells 8\n",
      "Precision normal: 0.74 (+/- 0.06)\n",
      "Recall normal: 0.82 (+/- 0.05)\n",
      "Precision pneumonia: 0.64 (+/- 0.18)\n",
      "Recall pneumonia: 0.58 (+/- 0.08)\n",
      "Precision covid: 0.57 (+/- 0.16)\n",
      "Recall covid: 0.55 (+/- 0.18) \n",
      "\n",
      "=========================== 6 ====================================\n",
      "Orientation 8 Pixels 8 Cells 2\n",
      "Precision normal: 0.69 (+/- 0.09)\n",
      "Recall normal: 0.82 (+/- 0.14)\n",
      "Precision pneumonia: 0.64 (+/- 0.19)\n",
      "Recall pneumonia: 0.57 (+/- 0.24)\n",
      "Precision covid: 0.63 (+/- 0.13)\n",
      "Recall covid: 0.56 (+/- 0.07) \n",
      "\n",
      "=========================== 7 ====================================\n",
      "Orientation 8 Pixels 8 Cells 4\n",
      "Precision normal: 0.66 (+/- 0.09)\n",
      "Recall normal: 0.79 (+/- 0.15)\n",
      "Precision pneumonia: 0.65 (+/- 0.29)\n",
      "Recall pneumonia: 0.52 (+/- 0.15)\n",
      "Precision covid: 0.54 (+/- 0.15)\n",
      "Recall covid: 0.53 (+/- 0.12) \n",
      "\n",
      "=========================== 8 ====================================\n",
      "Orientation 8 Pixels 8 Cells 8\n",
      "Precision normal: 0.70 (+/- 0.10)\n",
      "Recall normal: 0.81 (+/- 0.15)\n",
      "Precision pneumonia: 0.63 (+/- 0.19)\n",
      "Recall pneumonia: 0.56 (+/- 0.28)\n",
      "Precision covid: 0.58 (+/- 0.18)\n",
      "Recall covid: 0.53 (+/- 0.12) \n",
      "\n",
      "=========================== 9 ====================================\n",
      "Orientation 8 Pixels 16 Cells 2\n",
      "Precision normal: 0.70 (+/- 0.12)\n",
      "Recall normal: 0.81 (+/- 0.07)\n",
      "Precision pneumonia: 0.63 (+/- 0.17)\n",
      "Recall pneumonia: 0.54 (+/- 0.12)\n",
      "Precision covid: 0.54 (+/- 0.15)\n",
      "Recall covid: 0.52 (+/- 0.16) \n",
      "\n",
      "=========================== 10 ====================================\n",
      "Orientation 8 Pixels 16 Cells 4\n",
      "Precision normal: 0.72 (+/- 0.19)\n",
      "Recall normal: 0.80 (+/- 0.13)\n",
      "Precision pneumonia: 0.62 (+/- 0.30)\n",
      "Recall pneumonia: 0.56 (+/- 0.25)\n",
      "Precision covid: 0.54 (+/- 0.18)\n",
      "Recall covid: 0.52 (+/- 0.30) \n",
      "\n",
      "=========================== 11 ====================================\n",
      "Orientation 8 Pixels 16 Cells 8\n",
      "Precision normal: 0.72 (+/- 0.14)\n",
      "Recall normal: 0.80 (+/- 0.13)\n",
      "Precision pneumonia: 0.64 (+/- 0.24)\n",
      "Recall pneumonia: 0.58 (+/- 0.24)\n",
      "Precision covid: 0.58 (+/- 0.18)\n",
      "Recall covid: 0.56 (+/- 0.16) \n",
      "\n",
      "=========================== 12 ====================================\n",
      "Orientation 9 Pixels 8 Cells 2\n",
      "Precision normal: 0.72 (+/- 0.07)\n",
      "Recall normal: 0.85 (+/- 0.09)\n",
      "Precision pneumonia: 0.56 (+/- 0.22)\n",
      "Recall pneumonia: 0.52 (+/- 0.28)\n",
      "Precision covid: 0.56 (+/- 0.16)\n",
      "Recall covid: 0.48 (+/- 0.12) \n",
      "\n",
      "=========================== 13 ====================================\n",
      "Orientation 9 Pixels 8 Cells 4\n",
      "Precision normal: 0.67 (+/- 0.11)\n",
      "Recall normal: 0.82 (+/- 0.14)\n",
      "Precision pneumonia: 0.58 (+/- 0.22)\n",
      "Recall pneumonia: 0.51 (+/- 0.21)\n",
      "Precision covid: 0.52 (+/- 0.08)\n",
      "Recall covid: 0.46 (+/- 0.12) \n",
      "\n",
      "=========================== 14 ====================================\n",
      "Orientation 9 Pixels 8 Cells 8\n",
      "Precision normal: 0.69 (+/- 0.15)\n",
      "Recall normal: 0.83 (+/- 0.14)\n",
      "Precision pneumonia: 0.59 (+/- 0.29)\n",
      "Recall pneumonia: 0.45 (+/- 0.17)\n",
      "Precision covid: 0.52 (+/- 0.04)\n",
      "Recall covid: 0.52 (+/- 0.08) \n",
      "\n",
      "=========================== 15 ====================================\n",
      "Orientation 9 Pixels 16 Cells 2\n",
      "Precision normal: 0.69 (+/- 0.08)\n",
      "Recall normal: 0.80 (+/- 0.11)\n",
      "Precision pneumonia: 0.65 (+/- 0.06)\n",
      "Recall pneumonia: 0.58 (+/- 0.05)\n",
      "Precision covid: 0.59 (+/- 0.13)\n",
      "Recall covid: 0.56 (+/- 0.13) \n",
      "\n",
      "=========================== 16 ====================================\n",
      "Orientation 9 Pixels 16 Cells 4\n",
      "Precision normal: 0.70 (+/- 0.12)\n",
      "Recall normal: 0.79 (+/- 0.12)\n",
      "Precision pneumonia: 0.64 (+/- 0.13)\n",
      "Recall pneumonia: 0.60 (+/- 0.11)\n",
      "Precision covid: 0.55 (+/- 0.10)\n",
      "Recall covid: 0.51 (+/- 0.29) \n",
      "\n",
      "=========================== 17 ====================================\n",
      "Orientation 9 Pixels 16 Cells 8\n",
      "Precision normal: 0.72 (+/- 0.16)\n",
      "Recall normal: 0.79 (+/- 0.10)\n",
      "Precision pneumonia: 0.65 (+/- 0.18)\n",
      "Recall pneumonia: 0.64 (+/- 0.17)\n",
      "Precision covid: 0.62 (+/- 0.10)\n",
      "Recall covid: 0.57 (+/- 0.21) \n",
      "\n"
     ]
    }
   ],
   "source": [
    "# Primer corrida sin tocar parámetros random Forest\n",
    "cells = [2, 4, 8]\n",
    "pixels = [8, 16]\n",
    "orientations = [7, 8, 9]\n",
    "\n",
    "index = 0\n",
    "\n",
    "for orien in orientations:\n",
    "    for pix in pixels:\n",
    "        for cell in cells:\n",
    "            x = numpy.load(f'{features_csv_path(orien, pix, cell)}.npy')\n",
    "            scores = cross_validate(clf, X=x, y=df['disease'], cv=kfold, scoring=scoring)\n",
    "            print(f'=========================== {index} ====================================')\n",
    "            print('Orientation', orien, 'Pixels', pix, 'Cells', cell)\n",
    "            print(\"Precision normal: %0.2f (+/- %0.2f)\" % (scores['test_precision0'].mean(), scores['test_precision0'].std() * 2))\n",
    "            print(\"Recall normal: %0.2f (+/- %0.2f)\" % (scores['test_recall0'].mean(), scores['test_recall0'].std() * 2))\n",
    "            print(\"Precision pneumonia: %0.2f (+/- %0.2f)\" % (scores['test_precision1'].mean(), scores['test_precision1'].std() * 2))\n",
    "            print(\"Recall pneumonia: %0.2f (+/- %0.2f)\" % (scores['test_recall1'].mean(), scores['test_recall1'].std() * 2))\n",
    "            print(\"Precision covid: %0.2f (+/- %0.2f)\" % (scores['test_precision2'].mean(), scores['test_precision2'].std() * 2))\n",
    "            print(\"Recall covid: %0.2f (+/- %0.2f) \\n\" % (scores['test_recall2'].mean(), scores['test_recall2'].std() * 2))\n",
    "            index = index + 1\n"
   ]
  },
  {
   "cell_type": "code",
   "execution_count": 32,
   "id": "04292e5e",
   "metadata": {},
   "outputs": [
    {
     "name": "stdout",
     "output_type": "stream",
     "text": [
      "Fitting 3 folds for each of 19440 candidates, totalling 58320 fits\n"
     ]
    },
    {
     "data": {
      "text/plain": [
       "GridSearchCV(cv=3, estimator=RandomForestClassifier(random_state=14061996),\n",
       "             n_jobs=-1,\n",
       "             param_grid={'bootstrap': [True], 'criterion': ['gini', 'entropy'],\n",
       "                         'max_depth': [80, 90, 100, 110, 120, 150, 200, 500,\n",
       "                                       1000],\n",
       "                         'max_features': [2, 3, 4, 5, 10],\n",
       "                         'min_samples_leaf': [3, 4, 5, 10, 50, 100],\n",
       "                         'min_samples_split': [8, 10, 12, 24, 60, 100],\n",
       "                         'n_estimators': [100, 200, 300, 500, 1000, 5000]},\n",
       "             verbose=2)"
      ]
     },
     "execution_count": 32,
     "metadata": {},
     "output_type": "execute_result"
    }
   ],
   "source": [
    "# Grid search para buscar mejores parámetros de árbol\n",
    "\n",
    "def evaluate(model, test_features, test_labels):\n",
    "    predictions = model.predict(test_features)\n",
    "    errors = abs(predictions - test_labels)\n",
    "    mape = 100 * np.mean(errors / test_labels)\n",
    "    accuracy = 100 - mape\n",
    "    print('Model Performance')\n",
    "    print('Average Error: {:0.4f} degrees.'.format(np.mean(errors)))\n",
    "    print('Accuracy = {:0.2f}%.'.format(accuracy))\n",
    "    return accuracy\n",
    "\n",
    "\n",
    "param_grid = {\n",
    "    'bootstrap': [True],\n",
    "    'max_depth': [80, 90, 100, 110, 120, 150, 200, 500, 1000],\n",
    "    'max_features': [2, 3, 4, 5, 10],\n",
    "    'min_samples_leaf': [3, 4, 5, 10, 50, 100],\n",
    "    'min_samples_split': [8, 10, 12, 24, 60, 100],\n",
    "    'n_estimators': [100, 200, 300, 500, 1000, 5000],\n",
    "    'criterion': ['gini', 'entropy']\n",
    "}\n",
    "\n",
    "rf = RandomForestClassifier(random_state=seed)\n",
    "\n",
    "grid_search = GridSearchCV(estimator = rf, param_grid = param_grid, cv = 3, n_jobs = -1, verbose = 2)\n",
    "\n",
    "grid_search.fit(x, df['disease'])\n"
   ]
  },
  {
   "cell_type": "code",
   "execution_count": 33,
   "id": "94c70c23",
   "metadata": {},
   "outputs": [
    {
     "name": "stdout",
     "output_type": "stream",
     "text": [
      "Mejores parámetros\n",
      "{'bootstrap': True, 'criterion': 'gini', 'max_depth': 80, 'max_features': 10, 'min_samples_leaf': 5, 'min_samples_split': 24, 'n_estimators': 500}\n",
      "Mejor estimador\n",
      "RandomForestClassifier(max_depth=80, max_features=10, min_samples_leaf=5,\n",
      "                       min_samples_split=24, n_estimators=500,\n",
      "                       random_state=14061996)\n"
     ]
    }
   ],
   "source": [
    "print('Mejores parámetros')\n",
    "print(grid_search.best_params_)\n",
    "\n",
    "print('Mejor estimador')\n",
    "print(grid_search.best_estimator_)\n"
   ]
  },
  {
   "cell_type": "code",
   "execution_count": 34,
   "id": "afbb46e4",
   "metadata": {},
   "outputs": [
    {
     "name": "stdout",
     "output_type": "stream",
     "text": [
      "=========================== 0 ====================================\n",
      "Orientation 7 Pixels 8 Cells 2\n",
      "Precision normal: 0.71 (+/- 0.09)\n",
      "Recall normal: 0.84 (+/- 0.12)\n",
      "Precision pneumonia: 0.59 (+/- 0.22)\n",
      "Recall pneumonia: 0.59 (+/- 0.21)\n",
      "Precision covid: 0.61 (+/- 0.18)\n",
      "Recall covid: 0.49 (+/- 0.18) \n",
      "\n",
      "=========================== 1 ====================================\n",
      "Orientation 7 Pixels 8 Cells 4\n",
      "Precision normal: 0.71 (+/- 0.12)\n",
      "Recall normal: 0.86 (+/- 0.12)\n",
      "Precision pneumonia: 0.62 (+/- 0.24)\n",
      "Recall pneumonia: 0.59 (+/- 0.23)\n",
      "Precision covid: 0.62 (+/- 0.15)\n",
      "Recall covid: 0.51 (+/- 0.19) \n",
      "\n",
      "=========================== 2 ====================================\n",
      "Orientation 7 Pixels 8 Cells 8\n",
      "Precision normal: 0.72 (+/- 0.20)\n",
      "Recall normal: 0.87 (+/- 0.12)\n",
      "Precision pneumonia: 0.67 (+/- 0.27)\n",
      "Recall pneumonia: 0.57 (+/- 0.05)\n",
      "Precision covid: 0.63 (+/- 0.16)\n",
      "Recall covid: 0.55 (+/- 0.19) \n",
      "\n",
      "=========================== 3 ====================================\n",
      "Orientation 7 Pixels 16 Cells 2\n",
      "Precision normal: 0.73 (+/- 0.10)\n",
      "Recall normal: 0.81 (+/- 0.04)\n",
      "Precision pneumonia: 0.65 (+/- 0.16)\n",
      "Recall pneumonia: 0.60 (+/- 0.13)\n",
      "Precision covid: 0.60 (+/- 0.15)\n",
      "Recall covid: 0.57 (+/- 0.10) \n",
      "\n",
      "=========================== 4 ====================================\n",
      "Orientation 7 Pixels 16 Cells 4\n",
      "Precision normal: 0.76 (+/- 0.15)\n",
      "Recall normal: 0.84 (+/- 0.07)\n",
      "Precision pneumonia: 0.63 (+/- 0.15)\n",
      "Recall pneumonia: 0.63 (+/- 0.15)\n",
      "Precision covid: 0.61 (+/- 0.18)\n",
      "Recall covid: 0.53 (+/- 0.21) \n",
      "\n",
      "=========================== 5 ====================================\n",
      "Orientation 7 Pixels 16 Cells 8\n",
      "Precision normal: 0.73 (+/- 0.08)\n",
      "Recall normal: 0.82 (+/- 0.10)\n",
      "Precision pneumonia: 0.63 (+/- 0.19)\n",
      "Recall pneumonia: 0.64 (+/- 0.16)\n",
      "Precision covid: 0.64 (+/- 0.11)\n",
      "Recall covid: 0.55 (+/- 0.11) \n",
      "\n",
      "=========================== 6 ====================================\n",
      "Orientation 8 Pixels 8 Cells 2\n",
      "Precision normal: 0.70 (+/- 0.08)\n",
      "Recall normal: 0.82 (+/- 0.10)\n",
      "Precision pneumonia: 0.57 (+/- 0.25)\n",
      "Recall pneumonia: 0.58 (+/- 0.25)\n",
      "Precision covid: 0.59 (+/- 0.20)\n",
      "Recall covid: 0.47 (+/- 0.10) \n",
      "\n",
      "=========================== 7 ====================================\n",
      "Orientation 8 Pixels 8 Cells 4\n",
      "Precision normal: 0.70 (+/- 0.13)\n",
      "Recall normal: 0.86 (+/- 0.12)\n",
      "Precision pneumonia: 0.64 (+/- 0.16)\n",
      "Recall pneumonia: 0.60 (+/- 0.11)\n",
      "Precision covid: 0.63 (+/- 0.02)\n",
      "Recall covid: 0.51 (+/- 0.17) \n",
      "\n",
      "=========================== 8 ====================================\n",
      "Orientation 8 Pixels 8 Cells 8\n",
      "Precision normal: 0.71 (+/- 0.19)\n",
      "Recall normal: 0.85 (+/- 0.14)\n",
      "Precision pneumonia: 0.68 (+/- 0.25)\n",
      "Recall pneumonia: 0.66 (+/- 0.19)\n",
      "Precision covid: 0.67 (+/- 0.15)\n",
      "Recall covid: 0.51 (+/- 0.26) \n",
      "\n",
      "=========================== 9 ====================================\n",
      "Orientation 8 Pixels 16 Cells 2\n",
      "Precision normal: 0.73 (+/- 0.09)\n",
      "Recall normal: 0.81 (+/- 0.07)\n",
      "Precision pneumonia: 0.63 (+/- 0.22)\n",
      "Recall pneumonia: 0.63 (+/- 0.22)\n",
      "Precision covid: 0.59 (+/- 0.14)\n",
      "Recall covid: 0.52 (+/- 0.12) \n",
      "\n",
      "=========================== 10 ====================================\n",
      "Orientation 8 Pixels 16 Cells 4\n",
      "Precision normal: 0.74 (+/- 0.14)\n",
      "Recall normal: 0.83 (+/- 0.08)\n",
      "Precision pneumonia: 0.66 (+/- 0.19)\n",
      "Recall pneumonia: 0.64 (+/- 0.20)\n",
      "Precision covid: 0.59 (+/- 0.14)\n",
      "Recall covid: 0.53 (+/- 0.25) \n",
      "\n",
      "=========================== 11 ====================================\n",
      "Orientation 8 Pixels 16 Cells 8\n",
      "Precision normal: 0.73 (+/- 0.08)\n",
      "Recall normal: 0.81 (+/- 0.07)\n",
      "Precision pneumonia: 0.69 (+/- 0.29)\n",
      "Recall pneumonia: 0.63 (+/- 0.21)\n",
      "Precision covid: 0.61 (+/- 0.12)\n",
      "Recall covid: 0.58 (+/- 0.24) \n",
      "\n",
      "=========================== 12 ====================================\n",
      "Orientation 9 Pixels 8 Cells 2\n",
      "Precision normal: 0.69 (+/- 0.13)\n",
      "Recall normal: 0.83 (+/- 0.10)\n",
      "Precision pneumonia: 0.60 (+/- 0.22)\n",
      "Recall pneumonia: 0.57 (+/- 0.17)\n",
      "Precision covid: 0.61 (+/- 0.12)\n",
      "Recall covid: 0.51 (+/- 0.15) \n",
      "\n",
      "=========================== 13 ====================================\n",
      "Orientation 9 Pixels 8 Cells 4\n",
      "Precision normal: 0.71 (+/- 0.14)\n",
      "Recall normal: 0.85 (+/- 0.11)\n",
      "Precision pneumonia: 0.63 (+/- 0.16)\n",
      "Recall pneumonia: 0.60 (+/- 0.14)\n",
      "Precision covid: 0.59 (+/- 0.17)\n",
      "Recall covid: 0.50 (+/- 0.15) \n",
      "\n",
      "=========================== 14 ====================================\n",
      "Orientation 9 Pixels 8 Cells 8\n",
      "Precision normal: 0.73 (+/- 0.11)\n",
      "Recall normal: 0.86 (+/- 0.12)\n",
      "Precision pneumonia: 0.65 (+/- 0.31)\n",
      "Recall pneumonia: 0.56 (+/- 0.18)\n",
      "Precision covid: 0.57 (+/- 0.13)\n",
      "Recall covid: 0.53 (+/- 0.27) \n",
      "\n",
      "=========================== 15 ====================================\n",
      "Orientation 9 Pixels 16 Cells 2\n",
      "Precision normal: 0.70 (+/- 0.12)\n",
      "Recall normal: 0.83 (+/- 0.05)\n",
      "Precision pneumonia: 0.65 (+/- 0.14)\n",
      "Recall pneumonia: 0.60 (+/- 0.11)\n",
      "Precision covid: 0.60 (+/- 0.06)\n",
      "Recall covid: 0.53 (+/- 0.14) \n",
      "\n",
      "=========================== 16 ====================================\n",
      "Orientation 9 Pixels 16 Cells 4\n",
      "Precision normal: 0.75 (+/- 0.16)\n",
      "Recall normal: 0.85 (+/- 0.09)\n",
      "Precision pneumonia: 0.63 (+/- 0.19)\n",
      "Recall pneumonia: 0.61 (+/- 0.17)\n",
      "Precision covid: 0.57 (+/- 0.22)\n",
      "Recall covid: 0.49 (+/- 0.23) \n",
      "\n",
      "=========================== 17 ====================================\n",
      "Orientation 9 Pixels 16 Cells 8\n",
      "Precision normal: 0.74 (+/- 0.10)\n",
      "Recall normal: 0.81 (+/- 0.13)\n",
      "Precision pneumonia: 0.65 (+/- 0.19)\n",
      "Recall pneumonia: 0.66 (+/- 0.21)\n",
      "Precision covid: 0.63 (+/- 0.20)\n",
      "Recall covid: 0.55 (+/- 0.18) \n",
      "\n"
     ]
    }
   ],
   "source": [
    "# Segunda corrida usando mejores parámetros\n",
    "clf = RandomForestClassifier(\n",
    "    bootstrap=True,\n",
    "    criterion='gini',\n",
    "    max_depth=80, \n",
    "    max_features=10, \n",
    "    min_samples_leaf=5, \n",
    "    min_samples_split=24, \n",
    "    n_estimators=500, \n",
    "    random_state=seed\n",
    ")\n",
    "\n",
    "\n",
    "# variaciones hog\n",
    "cells = [2, 4, 8]\n",
    "pixels = [8, 16]\n",
    "orientations = [7, 8, 9]\n",
    "\n",
    "\n",
    "# random forest\n",
    "# criterion = ['gini', 'entropy']\n",
    "\n",
    "\n",
    "kfold = StratifiedKFold(n_splits=5, shuffle=True, random_state=seed) \n",
    "\n",
    "index = 0\n",
    "\n",
    "for orien in orientations:\n",
    "    for pix in pixels:\n",
    "        for cell in cells:\n",
    "            x = numpy.load(f'{features_csv_path(orien, pix, cell)}.npy')\n",
    "            scores = cross_validate(clf, X=x, y=df['disease'], cv=kfold, scoring=scoring)\n",
    "            print(f'=========================== {index} ====================================')\n",
    "            print('Orientation', orien, 'Pixels', pix, 'Cells', cell)\n",
    "            print(\"Precision normal: %0.2f (+/- %0.2f)\" % (scores['test_precision0'].mean(), scores['test_precision0'].std() * 2))\n",
    "            print(\"Recall normal: %0.2f (+/- %0.2f)\" % (scores['test_recall0'].mean(), scores['test_recall0'].std() * 2))\n",
    "            print(\"Precision pneumonia: %0.2f (+/- %0.2f)\" % (scores['test_precision1'].mean(), scores['test_precision1'].std() * 2))\n",
    "            print(\"Recall pneumonia: %0.2f (+/- %0.2f)\" % (scores['test_recall1'].mean(), scores['test_recall1'].std() * 2))\n",
    "            print(\"Precision covid: %0.2f (+/- %0.2f)\" % (scores['test_precision2'].mean(), scores['test_precision2'].std() * 2))\n",
    "            print(\"Recall covid: %0.2f (+/- %0.2f) \\n\" % (scores['test_recall2'].mean(), scores['test_recall2'].std() * 2))\n",
    "            index = index + 1\n",
    "\n"
   ]
  },
  {
   "cell_type": "code",
   "execution_count": null,
   "id": "2ec33267",
   "metadata": {},
   "outputs": [],
   "source": []
  }
 ],
 "metadata": {
  "kernelspec": {
   "display_name": "Python 3",
   "language": "python",
   "name": "python3"
  },
  "language_info": {
   "codemirror_mode": {
    "name": "ipython",
    "version": 3
   },
   "file_extension": ".py",
   "mimetype": "text/x-python",
   "name": "python",
   "nbconvert_exporter": "python",
   "pygments_lexer": "ipython3",
   "version": "3.8.0"
  }
 },
 "nbformat": 4,
 "nbformat_minor": 5
}
